{
 "cells": [
  {
   "cell_type": "code",
   "execution_count": 4,
   "metadata": {},
   "outputs": [
    {
     "name": "stdout",
     "output_type": "stream",
     "text": [
      "Stone Paper Scissor Game\n",
      "0 --> Stone\n",
      "1 --> Paper\n",
      "2 --> Scissor \n",
      "Start\n",
      "Enter number between 0 to 2: 2\n",
      "YOUR CHOICE: Scissor\n",
      "COMPUTER: Stone\n",
      "You lose\n"
     ]
    }
   ],
   "source": [
    "import random\n",
    "print(\"Stone Paper Scissor Game\\n0 --> Stone\\n1 --> Paper\\n2 --> Scissor \")\n",
    "print(\"Start\")\n",
    "b = int(input(\"Enter number between 0 to 2: \"))\n",
    "if b == 0:\n",
    "    print(\"YOUR CHOICE: Stone\")\n",
    "elif b == 1:\n",
    "    print(\"YOUR CHOICE: Paper\")\n",
    "else:\n",
    "    print(\"YOUR CHOICE: Scissor\")\n",
    "    \n",
    "a = random.randint(0,2)\n",
    "if a == 0:\n",
    "    print(\"COMPUTER: Stone\")\n",
    "elif a == 1:\n",
    "    print(\"COMPUTER: Paper\")\n",
    "else:\n",
    "    print(\"COMPUTER: Scissor\")\n",
    "    \n",
    "while True:\n",
    "    if (b==0 and a==0) or (b==1 and a==1) or (b==2 and a==2):\n",
    "        print(\"Tie\")\n",
    "        break\n",
    "    elif b==1 and a==0:\n",
    "        print(\"You won\")\n",
    "        break\n",
    "    elif b==1 and a==2:\n",
    "        print(\"You lose\")\n",
    "        break\n",
    "    elif b==2 and a==0:\n",
    "        print(\"You lose\")\n",
    "        break\n",
    "    else:\n",
    "        print(\"You won\")\n",
    "        break"
   ]
  },
  {
   "cell_type": "code",
   "execution_count": null,
   "metadata": {},
   "outputs": [],
   "source": [
    "\n"
   ]
  },
  {
   "cell_type": "code",
   "execution_count": null,
   "metadata": {},
   "outputs": [],
   "source": []
  }
 ],
 "metadata": {
  "kernelspec": {
   "display_name": "Python 3",
   "language": "python",
   "name": "python3"
  },
  "language_info": {
   "codemirror_mode": {
    "name": "ipython",
    "version": 3
   },
   "file_extension": ".py",
   "mimetype": "text/x-python",
   "name": "python",
   "nbconvert_exporter": "python",
   "pygments_lexer": "ipython3",
   "version": "3.7.4"
  }
 },
 "nbformat": 4,
 "nbformat_minor": 2
}
